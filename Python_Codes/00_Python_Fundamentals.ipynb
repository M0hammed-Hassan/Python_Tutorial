{
  "nbformat": 4,
  "nbformat_minor": 0,
  "metadata": {
    "colab": {
      "provenance": []
    },
    "kernelspec": {
      "name": "python3",
      "display_name": "Python 3"
    },
    "language_info": {
      "name": "python"
    }
  },
  "cells": [
    {
      "cell_type": "markdown",
      "source": [
        "# `Why Python?`\n",
        "- Easy Language\n",
        "- OOP\n",
        "- Data Science\n",
        "- Machine Learning\n",
        "- Deep Learning\n",
        "- Computer Vision\n",
        "- NLP Tasks"
      ],
      "metadata": {
        "id": "57mucdy2knsw"
      }
    },
    {
      "cell_type": "code",
      "source": [
        "# This is our first python code\n",
        "# Print hello world\n",
        "print('Hello World!')"
      ],
      "metadata": {
        "colab": {
          "base_uri": "https://localhost:8080/"
        },
        "id": "OF2z2D0zlfIw",
        "outputId": "69b889ad-b5d4-489e-e2ca-d3a28ea00a0c"
      },
      "execution_count": null,
      "outputs": [
        {
          "output_type": "stream",
          "name": "stdout",
          "text": [
            "Hello World!\n"
          ]
        }
      ]
    },
    {
      "cell_type": "markdown",
      "source": [
        "- You have to `practice`."
      ],
      "metadata": {
        "id": "Ch3b6-EGlrFc"
      }
    }
  ]
}