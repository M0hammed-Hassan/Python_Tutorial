{
  "cells": [
    {
      "cell_type": "markdown",
      "metadata": {
        "id": "dbAuAbXX79Pe"
      },
      "source": [
        "# `Notebook Contents`\n",
        "- Print Function\n",
        "- Variables\n",
        "- Data Types"
      ]
    },
    {
      "cell_type": "markdown",
      "metadata": {
        "id": "A3eavIVJ76HO"
      },
      "source": [
        "# Print Function\n",
        "It helps us for displaying something by using different data types."
      ]
    },
    {
      "cell_type": "code",
      "execution_count": 1,
      "metadata": {
        "colab": {
          "base_uri": "https://localhost:8080/"
        },
        "id": "DUcuwDpU8OXZ",
        "outputId": "27670619-4315-4ca4-c6df-543674bdc2f1"
      },
      "outputs": [
        {
          "name": "stdout",
          "output_type": "stream",
          "text": [
            "Hello To CoreMind!\n"
          ]
        }
      ],
      "source": [
        "# Ex1\n",
        "print('Hello To CoreMind!')"
      ]
    },
    {
      "cell_type": "code",
      "execution_count": 5,
      "metadata": {
        "colab": {
          "base_uri": "https://localhost:8080/",
          "height": 200
        },
        "id": "bRQzu2eS8TPh",
        "outputId": "36cd4beb-f7d6-4001-b0ea-290a2c0604cd"
      },
      "outputs": [
        {
          "ename": "NameError",
          "evalue": "ignored",
          "output_type": "error",
          "traceback": [
            "\u001b[0;31m---------------------------------------------------------------------------\u001b[0m",
            "\u001b[0;31mNameError\u001b[0m                                 Traceback (most recent call last)",
            "\u001b[0;32m<ipython-input-5-203246571531>\u001b[0m in \u001b[0;36m<cell line: 1>\u001b[0;34m()\u001b[0m\n\u001b[0;32m----> 1\u001b[0;31m \u001b[0mprin\u001b[0m\u001b[0;34m\u001b[0m\u001b[0;34m\u001b[0m\u001b[0m\n\u001b[0m\u001b[1;32m      2\u001b[0m \u001b[0;34m\u001b[0m\u001b[0m\n\u001b[1;32m      3\u001b[0m \u001b[0mprint\u001b[0m\u001b[0;34m(\u001b[0m\u001b[0;34m'Hello from the second print'\u001b[0m\u001b[0;34m)\u001b[0m\u001b[0;34m\u001b[0m\u001b[0;34m\u001b[0m\u001b[0m\n",
            "\u001b[0;31mNameError\u001b[0m: name 'prin' is not defined"
          ]
        }
      ],
      "source": [
        "prin\n",
        "\n",
        "print('Hello from the second print')"
      ]
    },
    {
      "cell_type": "markdown",
      "metadata": {
        "id": "xqMmD_QJ8ZxK"
      },
      "source": [
        "# Variables\n",
        "It's like a box, we save in it `something`!"
      ]
    },
    {
      "cell_type": "code",
      "execution_count": 6,
      "metadata": {
        "colab": {
          "base_uri": "https://localhost:8080/"
        },
        "id": "oaAQ_4dE86Ol",
        "outputId": "85e72957-b677-4621-cf89-32fd61fea75d"
      },
      "outputs": [
        {
          "name": "stdout",
          "output_type": "stream",
          "text": [
            "It is not the print function\n"
          ]
        }
      ],
      "source": [
        "prin = 'It is not the print function'\n",
        "print(prin)"
      ]
    },
    {
      "cell_type": "code",
      "execution_count": 7,
      "metadata": {
        "colab": {
          "base_uri": "https://localhost:8080/"
        },
        "id": "5UHzTzWl9ETA",
        "outputId": "15282458-bf39-4da2-e83e-aefe0bc8df19"
      },
      "outputs": [
        {
          "name": "stdout",
          "output_type": "stream",
          "text": [
            "Hello from the second print\n"
          ]
        }
      ],
      "source": [
        "prin # Initialized\n",
        "\n",
        "print('Hello from the second print')"
      ]
    },
    {
      "cell_type": "markdown",
      "metadata": {
        "id": "i9y97OiJ9PgL"
      },
      "source": [
        "# Data Types\n",
        "- String(str): Character or text.\n",
        "*Anything inside this double quote --> \" \" considered as a string*\n",
        "\n",
        "- Integers(int): Numbers\n",
        "\n",
        "- Float(float): The number must be decimal, like that *1.0*"
      ]
    },
    {
      "cell_type": "code",
      "execution_count": 10,
      "metadata": {
        "colab": {
          "base_uri": "https://localhost:8080/"
        },
        "id": "DgdTS3x2-Ubz",
        "outputId": "be83879c-f8b0-4aa4-beb1-e8d1b21e9416"
      },
      "outputs": [
        {
          "name": "stdout",
          "output_type": "stream",
          "text": [
            "------------------------------\n"
          ]
        }
      ],
      "source": [
        "print('-'*30)"
      ]
    },
    {
      "cell_type": "code",
      "execution_count": 11,
      "metadata": {
        "colab": {
          "base_uri": "https://localhost:8080/"
        },
        "id": "Hl9V6gXd9hl4",
        "outputId": "a67b089e-b0b7-4f56-df2b-aeb7d037f401"
      },
      "outputs": [
        {
          "name": "stdout",
          "output_type": "stream",
          "text": [
            "c\n",
            "This is a text\n",
            "------------------------------\n",
            "Type of str_ variable:<class 'str'>\n",
            "Type of txt variable:<class 'str'>\n"
          ]
        }
      ],
      "source": [
        "# String\n",
        "str_ = 'c'\n",
        "txt = 'This is a text'\n",
        "\n",
        "print(str_)\n",
        "print(txt)\n",
        "print('-'*30)\n",
        "\n",
        "# type is a function that helps us for understanding the data types\n",
        "print(f'Type of str_ variable:{type(str_)}')\n",
        "print(f'Type of txt variable:{type(txt)}')"
      ]
    },
    {
      "cell_type": "code",
      "execution_count": 12,
      "metadata": {
        "colab": {
          "base_uri": "https://localhost:8080/",
          "height": 35
        },
        "id": "ad4qnTeW9pnB",
        "outputId": "39831700-a80a-4a6c-bd21-8585ba3a2e5a"
      },
      "outputs": [
        {
          "data": {
            "application/vnd.google.colaboratory.intrinsic+json": {
              "type": "string"
            },
            "text/plain": [
              "'1'"
            ]
          },
          "execution_count": 12,
          "metadata": {},
          "output_type": "execute_result"
        }
      ],
      "source": [
        "str_ = '1'\n",
        "str_"
      ]
    },
    {
      "cell_type": "code",
      "execution_count": 16,
      "metadata": {
        "colab": {
          "base_uri": "https://localhost:8080/"
        },
        "id": "We_cBcy5-vOC",
        "outputId": "fd57019d-6626-4d3d-de49-e97650a6bcfd"
      },
      "outputs": [
        {
          "name": "stdout",
          "output_type": "stream",
          "text": [
            "1\n",
            "Type of int_ variable is <class 'int'>\n"
          ]
        }
      ],
      "source": [
        "# Intergers\n",
        "int_ = 1\n",
        "print(int_)\n",
        "\n",
        "# See the type\n",
        "print(f'Type of int_ variable is {type(int_)}')"
      ]
    },
    {
      "cell_type": "code",
      "execution_count": 20,
      "metadata": {
        "colab": {
          "base_uri": "https://localhost:8080/"
        },
        "id": "5e1zf3K3_DOK",
        "outputId": "d51c075a-8a14-410f-a892-45c321bb1665"
      },
      "outputs": [
        {
          "name": "stdout",
          "output_type": "stream",
          "text": [
            "Type of x = 1.0: <class 'float'>\n",
            "Type of y = 1: <class 'int'>\n"
          ]
        }
      ],
      "source": [
        "# Float VS Integer\n",
        "x = 1.0\n",
        "y = 1\n",
        "\n",
        "print(f'Type of x = {x}: {type(x)}')\n",
        "print(f'Type of y = {y}: {type(y)}')"
      ]
    },
    {
      "cell_type": "code",
      "execution_count": 22,
      "metadata": {
        "colab": {
          "base_uri": "https://localhost:8080/"
        },
        "id": "YwvZ5gIx_bKy",
        "outputId": "336560f1-774f-46e2-c416-009a6941fa63"
      },
      "outputs": [
        {
          "data": {
            "text/plain": [
              "1"
            ]
          },
          "execution_count": 22,
          "metadata": {},
          "output_type": "execute_result"
        }
      ],
      "source": [
        "# Convert from float to integers --> Casting\n",
        "x = int(x)\n",
        "x"
      ]
    }
  ],
  "metadata": {
    "colab": {
      "provenance": []
    },
    "kernelspec": {
      "display_name": "Python 3",
      "name": "python3"
    },
    "language_info": {
      "name": "python"
    }
  },
  "nbformat": 4,
  "nbformat_minor": 0
}
